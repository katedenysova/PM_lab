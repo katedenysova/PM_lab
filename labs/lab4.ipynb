{
 "cells": [
  {
   "cell_type": "markdown",
   "metadata": {},
   "source": [
    "The dataset below is representing the population, consumer price indices (in %), outputs (in UAH mln) and average salary (in UAH) by Ukrainian regions in 2021"
   ]
  },
  {
   "cell_type": "code",
   "execution_count": 35,
   "metadata": {},
   "outputs": [
    {
     "name": "stdout",
     "output_type": "stream",
     "text": [
      "                  Population  CPIndex  Outputs  AvSalary\n",
      "Region                                                   \n",
      "Vinnytska            1545416    100,7   142289     10751\n",
      "Volynska             1031421    101,2    93105     10048\n",
      "Dnipropetrovska      3176648    100,8   453573     12744\n",
      "Donetska             4131808    101,8   170217     13786\n",
      "Zhytomyrska          1208212    100,9   115293     10111\n",
      "Zakarpatska          1253791    102,1   100895     10417\n",
      "Zaporizka            1687401    101,2   208670     12542\n",
      "Іvano-Frankivska     1368097    101,2   117300     10558\n",
      "Kyjivska             1781044    101,1   328874     12645\n",
      "Kirovogradska         933109    101,8    92481      9780\n",
      "Luganska             2135913    102,5    55870     10324\n",
      "Lvivska              2512084    101,1   289292     11038\n",
      "Mykolajivska         1119862    101,4   111807     12535\n",
      "Odeska               2377230    101,7   326947     10995\n",
      "Poltavska            1386978    101,7   155201     11353\n",
      "Rivnenska            1152961    101,1    95148     11406\n",
      "Sumska               1068247    101,1    98285     10306\n",
      "Ternopilska          1038695    100,8    80017      9922\n",
      "Kharkivska           2658461    100,9   351660     10364\n",
      "Khersonska           1027913    102,0   101359      9971\n",
      "Khmelnytska          1254702    101,1   115465     10725\n",
      "Cherkaska            1192137    101,5   118245     10460\n",
      "Chernivetska          901632    100,9    76136      9696\n",
      "Chernigivska          991294    101,0   100214      9877\n"
     ]
    }
   ],
   "source": [
    "import pandas as pd\n",
    "\n",
    "\n",
    "df = pd.read_excel(\"C:/Users/user/Documents/Ukraine.xlsx\", \n",
    "                   header=  0,  \n",
    "                   usecols = \"A:E\", \n",
    "                   index_col=0, \n",
    "                   names = [\"Region\", \"Population\", \"CPIndex\", \"Outputs\",\"AvSalary\"])\n",
    "\n",
    "print(df)"
   ]
  },
  {
   "cell_type": "markdown",
   "metadata": {},
   "source": [
    "Question 1: Which region has the largest population?"
   ]
  },
  {
   "cell_type": "code",
   "execution_count": 27,
   "metadata": {},
   "outputs": [
    {
     "data": {
      "text/plain": [
       "'Donetska'"
      ]
     },
     "execution_count": 27,
     "metadata": {},
     "output_type": "execute_result"
    }
   ],
   "source": [
    "def answer_one():\n",
    "    return df[df['Population'] == max(df['Population'])].index[0]\n",
    "answer_one()"
   ]
  },
  {
   "cell_type": "markdown",
   "metadata": {},
   "source": [
    "Question 2: Which region has the biggest CPIndex relatively to Population?"
   ]
  },
  {
   "cell_type": "code",
   "execution_count": 28,
   "metadata": {},
   "outputs": [
    {
     "data": {
      "text/plain": [
       "'Luganska'"
      ]
     },
     "execution_count": 28,
     "metadata": {},
     "output_type": "execute_result"
    }
   ],
   "source": [
    "def answer_two():\n",
    "    df['dec'] = abs(df['CPIndex']/df['Population'])\n",
    "    return df[df['dec'] == max(df['dec'])].index[0]\n",
    "answer_two()"
   ]
  },
  {
   "cell_type": "markdown",
   "metadata": {},
   "source": [
    "Question 3: Which region has the highest incomes?"
   ]
  },
  {
   "cell_type": "code",
   "execution_count": 29,
   "metadata": {},
   "outputs": [
    {
     "data": {
      "text/plain": [
       "'Kyjivska'"
      ]
     },
     "execution_count": 29,
     "metadata": {},
     "output_type": "execute_result"
    }
   ],
   "source": [
    "def answer_three():\n",
    "    df['rate'] = abs(df['Population']/df['AvSalary']*1000)\n",
    "    return df[df['rate'] == max(df['rate'])].index[0]\n",
    "answer_three()"
   ]
  },
  {
   "cell_type": "markdown",
   "metadata": {},
   "source": [
    "Question 4: What is the average salary in Ukraine?"
   ]
  },
  {
   "cell_type": "code",
   "execution_count": 30,
   "metadata": {},
   "outputs": [
    {
     "data": {
      "text/plain": [
       "10242.6577855340128"
      ]
     },
     "execution_count": 30,
     "metadata": {},
     "output_type": "execute_result"
    }
   ],
   "source": [
    "df['Count']=df['Population']*df['AvSalary']\n",
    "df.head()\n",
    "df['Count'].sum()/df['Population'].sum()"
   ]
  },
  {
   "cell_type": "markdown",
   "metadata": {},
   "source": [
    "Question 5: Which region has the highest outputs relatively to Salary and what is its value (by %)?"
   ]
  },
  {
   "cell_type": "code",
   "execution_count": 31,
   "metadata": {},
   "outputs": [
    {
     "data": {
      "text/plain": [
       "('Dnipropetrovska', 87.480420938675076)"
      ]
     },
     "execution_count": 31,
     "metadata": {},
     "output_type": "execute_result"
    }
   ],
   "source": [
    "def answer_five():\n",
    "    \n",
    "    df['deathrate'] = abs(df['Outputs']/df['AvSalary']*1000)\n",
    "    death = df['avoutputs']\n",
    "    ans = death.idxmax()\n",
    "    return (ans, avsalary[ans])\n",
    " \n",
    "answer_five()"
   ]
  },
   "metadata": {
  "interpreter": {
   "hash": "ad2bdc8ecc057115af97d19610ffacc2b4e99fae6737bb82f5d7fb13d2f2c186"
  },
  "kernelspec": {
   "display_name": "Python 3.9.7 ('base')",
   "language": "python",
   "name": "python3"
  },
  "language_info": {
   "codemirror_mode": {
    "name": "ipython",
    "version": 3
   },
   "file_extension": ".py",
   "mimetype": "text/x-python",
   "name": "python",
   "nbconvert_exporter": "python",
   "pygments_lexer": "ipython3",
   "version": "3.9.7"
  },
  "orig_nbformat": 4
 },
 "nbformat": 4,
 "nbformat_minor": 2
}
