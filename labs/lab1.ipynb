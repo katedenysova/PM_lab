{
 "cells": [
  {
   "cell_type": "markdown",
   "metadata": {},
   "source": [
    "Exercise 0 - Example"
   ]
  },
  {
   "cell_type": "code",
   "execution_count": 2,
   "metadata": {},
   "outputs": [
    {
     "data": {
      "text/plain": [
       "923521"
      ]
     },
     "execution_count": 2,
     "metadata": {},
     "output_type": "execute_result"
    }
   ],
   "source": [
    "q = 31\n",
    "q**4"
   ]
  },
  {
   "cell_type": "markdown",
   "metadata": {},
   "source": [
    "Exercise 1"
   ]
  },
  {
   "cell_type": "code",
   "execution_count": 3,
   "metadata": {},
   "outputs": [
    {
     "name": "stdout",
     "output_type": "stream",
     "text": [
      "A\n",
      "B\n",
      "C\n"
     ]
    }
   ],
   "source": [
    "#creating arbitrary list\n",
    "def f(a, *arguments):\n",
    "    print(a)\n",
    "    for arg in arguments:\n",
    "        print(arg)\n",
    "f(\"A\", \"B\", \"C\")"
   ]
  },
  {
   "cell_type": "code",
   "execution_count": 4,
   "metadata": {},
   "outputs": [
    {
     "name": "stdout",
     "output_type": "stream",
     "text": [
      "(1, 2, 3, 4, 5, 6, 7)\n"
     ]
    }
   ],
   "source": [
    "#Creating a tuple\n",
    "tup1=(1, 2, 3, 4, 5, 6, 7)\n",
    "print(tup1)"
   ]
  },
  {
   "cell_type": "code",
   "execution_count": 5,
   "metadata": {},
   "outputs": [
    {
     "name": "stdout",
     "output_type": "stream",
     "text": [
      "{1: 'Creating', 2: 'A', 3: 'Dictionary'}\n"
     ]
    }
   ],
   "source": [
    "# Creating a Dictionary\n",
    "Dict = {1: 'Creating', 2: 'A', 3: 'Dictionary'}\n",
    "print(Dict)"
   ]
  },
  {
   "cell_type": "markdown",
   "metadata": {},
   "source": [
    "Exercise 2"
   ]
  },
  {
   "cell_type": "code",
   "execution_count": 6,
   "metadata": {},
   "outputs": [],
   "source": [
    "import numpy as np\n",
    "s = np.random.normal(0,1,100)\n"
   ]
  },
  {
   "cell_type": "code",
   "execution_count": 7,
   "metadata": {},
   "outputs": [
    {
     "name": "stdout",
     "output_type": "stream",
     "text": [
      "0.3357381974690766\n"
     ]
    }
   ],
   "source": [
    "#the 10th element\n",
    "print(s[9])"
   ]
  },
  {
   "cell_type": "code",
   "execution_count": 8,
   "metadata": {},
   "outputs": [
    {
     "name": "stdout",
     "output_type": "stream",
     "text": [
      "[ 0.3357382  -0.90225819  0.77287096  1.01693612 -0.4954645   1.10819112\n",
      "  1.42013007 -2.16181079  0.62707285  0.2491214 ]\n"
     ]
    }
   ],
   "source": [
    "#printing elements from 10 to 20\n",
    "print(s[9:19])"
   ]
  },
  {
   "cell_type": "code",
   "execution_count": 9,
   "metadata": {},
   "outputs": [
    {
     "name": "stdout",
     "output_type": "stream",
     "text": [
      "0.390477132961993 0.2004280226037637 1.5864935938136624 0.8772151155088465 0.3357381974690766 0.7728709603299836 1.0169361202859415 1.1081911238745283 1.420130073962761 0.62707284684786 0.24912139670009298 1.1292654335604826 0.5050870704934585 2.1057357168348774 2.6421921581822363 0.5815226090369866 1.2817999108589875 0.4306332335488303 0.948688730340022 1.8793235052555493 0.10801353371367214 1.6234593287353947 0.10245191582406828 0.32648054722925135 1.2411767539911287 0.32127371657163445 0.7810629814088195 0.6447108322262459 1.0138237824927063 0.8471154691743915 0.17927925983612877 0.0060091220165670945 0.8199819862443474 0.11947441224825005 0.099253369013021 0.47636984417513595 1.0409306983284028 1.3021505978706425 0.3405823786298658 0.7617126288520553 0.7873250170163165 0.5269310731380218 0.21779292393982858 0.5290580152100736 0.515561526625441 2.241862186797138 1.4918411331099524 0.3025750512961358 0.08624756129329672 1.2016253123026384 0.795993855555012 "
     ]
    }
   ],
   "source": [
    "#printing elements more than 0\n",
    "def printAbove(s, a):\n",
    "    for i in range(a):\n",
    "        if s[i] > 0:\n",
    "            print(s[i], end = \" \")\n",
    "a = len(s)\n",
    "printAbove(s, a)"
   ]
  },
  {
   "cell_type": "code",
   "execution_count": 10,
   "metadata": {},
   "outputs": [
    {
     "name": "stdout",
     "output_type": "stream",
     "text": [
      "[0.39047713 0.20042802 1.58649359 0.87721512 0.3357382  0.77287096\n",
      " 1.01693612 1.10819112 1.42013007 0.62707285 0.2491214  1.12926543\n",
      " 0.50508707 2.10573572 2.64219216 0.58152261 1.28179991 0.43063323\n",
      " 0.94868873 1.87932351 0.10801353 1.62345933 0.10245192 0.32648055\n",
      " 1.24117675 0.32127372 0.78106298 0.64471083 1.01382378 0.84711547\n",
      " 0.17927926 0.00600912 0.81998199 0.11947441 0.09925337 0.47636984\n",
      " 1.0409307  1.3021506  0.34058238 0.76171263 0.78732502 0.52693107\n",
      " 0.21779292 0.52905802 0.51556153 2.24186219 1.49184113 0.30257505\n",
      " 0.08624756 1.20162531 0.79599386]\n"
     ]
    }
   ],
   "source": [
    "#2nd variant of printing elements more than 0\n",
    "print(s[s>0])"
   ]
  },
  {
   "cell_type": "markdown",
   "metadata": {},
   "source": [
    "Exercise 3"
   ]
  },
  {
   "cell_type": "code",
   "execution_count": 19,
   "metadata": {},
   "outputs": [
    {
     "name": "stdout",
     "output_type": "stream",
     "text": [
      "8\n",
      " \n",
      "Power is too big\n",
      "-1\n"
     ]
    }
   ],
   "source": [
    "def mypow(base,power):\n",
    "    if power<50:\n",
    "        return base**power\n",
    "    if power>=50:\n",
    "        print (\"Power is too big\")\n",
    "        return -1\n",
    "  \n",
    "\n",
    "print(mypow(2,3))\n",
    "print(\" \")\n",
    "print(mypow(2,50))"
   ]
  },
  {
   "cell_type": "markdown",
   "metadata": {},
   "source": [
    "Exercise 4"
   ]
  },
  {
   "cell_type": "code",
   "execution_count": 12,
   "metadata": {},
   "outputs": [
    {
     "name": "stdout",
     "output_type": "stream",
     "text": [
      "[ 0  1  2  3  4  5  6  7  8  9 10 11 12 13 14 15 16 17 18 19 20 21 22 23\n",
      " 24 25 26 27 28 29]\n"
     ]
    }
   ],
   "source": [
    "import numpy as np\n",
    "a=np.arange(30)\n",
    "print(a)"
   ]
  },
  {
   "cell_type": "code",
   "execution_count": 13,
   "metadata": {},
   "outputs": [
    {
     "name": "stdout",
     "output_type": "stream",
     "text": [
      "11 12 13 14 15 16 17 18 19 20 21 22 23 24 25 26 27 28 29 None\n"
     ]
    }
   ],
   "source": [
    "def above(x,n):\n",
    "    for i in x:\n",
    "        if x[i] > n:\n",
    "            print(x[i], end=\" \")\n",
    "            \n",
    "print(above(a, 10))\n",
    "\n",
    "       "
   ]
  },
  {
   "cell_type": "markdown",
   "metadata": {},
   "source": [
    "Exercise 5"
   ]
  },
  {
   "cell_type": "code",
   "execution_count": 14,
   "metadata": {},
   "outputs": [
    {
     "name": "stdout",
     "output_type": "stream",
     "text": [
      "[ 0  1  2  3  4  5  6  7  8  9 10 11 12 13 14 15 16 17 18 19]\n"
     ]
    }
   ],
   "source": [
    "import numpy as np\n",
    "b=np.arange(20)\n",
    "print(b)"
   ]
  },
  {
   "cell_type": "code",
   "execution_count": 15,
   "metadata": {},
   "outputs": [
    {
     "name": "stdout",
     "output_type": "stream",
     "text": [
      "[17 18 19]\n",
      "[ 0  1  2  3  4  5  6  7  8  9 10 11 12 13 14 15 16 17 18 19]\n"
     ]
    }
   ],
   "source": [
    "def my_ifelse(x,exp,n):\n",
    "    if exp == \">\":\n",
    "       return x[x>n]\n",
    "    if exp == \"<\":\n",
    "       return x[x<n]\n",
    "    if exp == \">=\":\n",
    "       return x[x>=n]\n",
    "    if exp == \"<=\":\n",
    "       return x[x<=n]\n",
    "    if exp == \"==\":\n",
    "       return x[x==n]\n",
    "    else: return x\n",
    "\n",
    "    \n",
    "print(my_ifelse(b,\">=\",17))\n",
    "print(my_ifelse(b,\"x\",3))"
   ]
  },
  {
   "cell_type": "markdown",
   "metadata": {},
   "source": [
    "Exercise 6"
   ]
  },
  {
   "cell_type": "code",
   "execution_count": 16,
   "metadata": {},
   "outputs": [
    {
     "name": "stdout",
     "output_type": "stream",
     "text": [
      "{'a': 3, 'l': 1, 'e': 1, 'k': 1, 's': 1, 'n': 1, 'd': 1, 'r': 1}\n"
     ]
    }
   ],
   "source": [
    "def counter (input_string):\n",
    "    count_letters = {}\n",
    "    for letter in input_string:\n",
    "        if letter in count_letters:\n",
    "                count_letters[letter] += 1\n",
    "        else:\n",
    "            count_letters[letter] = 1\n",
    "    return count_letters\n",
    "\n",
    "print(counter (\"kateryna\"))"
   ]
  },
  {
   "cell_type": "markdown",
   "metadata": {},
   "source": [
    "Exercise 7"
   ]
  },
  {
   "cell_type": "code",
   "execution_count": 17,
   "metadata": {},
   "outputs": [
    {
     "name": "stdout",
     "output_type": "stream",
     "text": [
      "{'a': 3, 'd': 1, 'e': 1, 'k': 1, 'l': 1, 'n': 1, 'r': 1, 's': 1}\n",
      "{'s': 1, 'r': 1, 'n': 1, 'l': 1, 'k': 1, 'e': 1, 'd': 1, 'a': 3}\n"
     ]
    }
   ],
   "source": [
    "def counter_sorted (input_string,reverse):\n",
    "    a = {}\n",
    "    for letter in sorted(input_string,reverse=reverse):\n",
    "        if letter in a:\n",
    "                a[letter] += 1 \n",
    "        else:\n",
    "            a[letter] = 1\n",
    "    return a\n",
    "\n",
    "\n",
    "print(counter_sorted(\"kateryna\",False))\n",
    "print(counter_sorted(\"kateryna\",True))"
   ]
  }
 ],
 "metadata": {
  "interpreter": {
   "hash": "ad2bdc8ecc057115af97d19610ffacc2b4e99fae6737bb82f5d7fb13d2f2c186"
  },
  "kernelspec": {
   "display_name": "Python 3.9.7 ('base')",
   "language": "python",
   "name": "python3"
  },
  "language_info": {
   "codemirror_mode": {
    "name": "ipython",
    "version": 3
   },
   "file_extension": ".py",
   "mimetype": "text/x-python",
   "name": "python",
   "nbconvert_exporter": "python",
   "pygments_lexer": "ipython3",
   "version": "3.9.7"
  },
  "orig_nbformat": 4
 },
 "nbformat": 4,
 "nbformat_minor": 2
}
